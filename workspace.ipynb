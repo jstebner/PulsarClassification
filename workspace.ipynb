{
 "cells": [
  {
   "cell_type": "code",
   "execution_count": 1,
   "metadata": {},
   "outputs": [],
   "source": [
    "import pandas as pd"
   ]
  },
  {
   "cell_type": "code",
   "execution_count": 6,
   "metadata": {},
   "outputs": [
    {
     "name": "stdout",
     "output_type": "stream",
     "text": [
      "<bound method DataFrame.info of        Mean_Integrated        EK  Skewness  Mean_DMSNR_Curve  SD_DMSNR_Curve  \\\n",
      "0           140.562500  1.502969 -0.699648          3.199833       19.110426   \n",
      "1           102.507812  0.788423 -0.515088          1.677258       14.860146   \n",
      "2           103.015625  0.323558  1.051164          3.121237       21.744669   \n",
      "3           136.750000  0.958983 -0.636238          3.642977       20.959280   \n",
      "4            88.726562  1.232198  1.123492          1.178930       11.468720   \n",
      "...                ...       ...       ...               ...             ...   \n",
      "14982        96.000000  0.537495  0.281344          1.871237       15.833746   \n",
      "14983       136.429688  1.349991 -0.738123          1.296823       12.166062   \n",
      "14984       122.554688  0.316006  0.323061         16.409699       44.626893   \n",
      "14985       119.335938  0.213253 -0.743025         21.430602       58.872000   \n",
      "14986       114.507812  0.076409 -0.024789          1.946488       13.381731   \n",
      "\n",
      "       EK_DMSNR_Curve  Skewness_DMSNR_Curve  Class  \n",
      "0            7.975532             74.242225      0  \n",
      "1           10.576487            127.393580      0  \n",
      "2            7.735822             63.171909      0  \n",
      "3            6.896499             53.593661      0  \n",
      "4           14.269573            252.567306      0  \n",
      "...               ...                   ...    ...  \n",
      "14982        9.634927            104.821623      0  \n",
      "14983       15.450260            285.931022      0  \n",
      "14984        2.945244              8.297092      0  \n",
      "14985        2.499517              4.595173      0  \n",
      "14986       10.007967            134.238910      0  \n",
      "\n",
      "[14987 rows x 8 columns]>\n"
     ]
    },
    {
     "data": {
      "text/html": [
       "<div>\n",
       "<style scoped>\n",
       "    .dataframe tbody tr th:only-of-type {\n",
       "        vertical-align: middle;\n",
       "    }\n",
       "\n",
       "    .dataframe tbody tr th {\n",
       "        vertical-align: top;\n",
       "    }\n",
       "\n",
       "    .dataframe thead th {\n",
       "        text-align: right;\n",
       "    }\n",
       "</style>\n",
       "<table border=\"1\" class=\"dataframe\">\n",
       "  <thead>\n",
       "    <tr style=\"text-align: right;\">\n",
       "      <th></th>\n",
       "      <th>Mean_Integrated</th>\n",
       "      <th>EK</th>\n",
       "      <th>Skewness</th>\n",
       "      <th>Mean_DMSNR_Curve</th>\n",
       "      <th>SD_DMSNR_Curve</th>\n",
       "      <th>EK_DMSNR_Curve</th>\n",
       "      <th>Skewness_DMSNR_Curve</th>\n",
       "      <th>Class</th>\n",
       "    </tr>\n",
       "  </thead>\n",
       "  <tbody>\n",
       "    <tr>\n",
       "      <th>0</th>\n",
       "      <td>140.562500</td>\n",
       "      <td>1.502969</td>\n",
       "      <td>-0.699648</td>\n",
       "      <td>3.199833</td>\n",
       "      <td>19.110426</td>\n",
       "      <td>7.975532</td>\n",
       "      <td>74.242225</td>\n",
       "      <td>0</td>\n",
       "    </tr>\n",
       "    <tr>\n",
       "      <th>1</th>\n",
       "      <td>102.507812</td>\n",
       "      <td>0.788423</td>\n",
       "      <td>-0.515088</td>\n",
       "      <td>1.677258</td>\n",
       "      <td>14.860146</td>\n",
       "      <td>10.576487</td>\n",
       "      <td>127.393580</td>\n",
       "      <td>0</td>\n",
       "    </tr>\n",
       "    <tr>\n",
       "      <th>2</th>\n",
       "      <td>103.015625</td>\n",
       "      <td>0.323558</td>\n",
       "      <td>1.051164</td>\n",
       "      <td>3.121237</td>\n",
       "      <td>21.744669</td>\n",
       "      <td>7.735822</td>\n",
       "      <td>63.171909</td>\n",
       "      <td>0</td>\n",
       "    </tr>\n",
       "    <tr>\n",
       "      <th>3</th>\n",
       "      <td>136.750000</td>\n",
       "      <td>0.958983</td>\n",
       "      <td>-0.636238</td>\n",
       "      <td>3.642977</td>\n",
       "      <td>20.959280</td>\n",
       "      <td>6.896499</td>\n",
       "      <td>53.593661</td>\n",
       "      <td>0</td>\n",
       "    </tr>\n",
       "    <tr>\n",
       "      <th>4</th>\n",
       "      <td>88.726562</td>\n",
       "      <td>1.232198</td>\n",
       "      <td>1.123492</td>\n",
       "      <td>1.178930</td>\n",
       "      <td>11.468720</td>\n",
       "      <td>14.269573</td>\n",
       "      <td>252.567306</td>\n",
       "      <td>0</td>\n",
       "    </tr>\n",
       "  </tbody>\n",
       "</table>\n",
       "</div>"
      ],
      "text/plain": [
       "   Mean_Integrated        EK  Skewness  Mean_DMSNR_Curve  SD_DMSNR_Curve  \\\n",
       "0       140.562500  1.502969 -0.699648          3.199833       19.110426   \n",
       "1       102.507812  0.788423 -0.515088          1.677258       14.860146   \n",
       "2       103.015625  0.323558  1.051164          3.121237       21.744669   \n",
       "3       136.750000  0.958983 -0.636238          3.642977       20.959280   \n",
       "4        88.726562  1.232198  1.123492          1.178930       11.468720   \n",
       "\n",
       "   EK_DMSNR_Curve  Skewness_DMSNR_Curve  Class  \n",
       "0        7.975532             74.242225      0  \n",
       "1       10.576487            127.393580      0  \n",
       "2        7.735822             63.171909      0  \n",
       "3        6.896499             53.593661      0  \n",
       "4       14.269573            252.567306      0  "
      ]
     },
     "execution_count": 6,
     "metadata": {},
     "output_type": "execute_result"
    }
   ],
   "source": [
    "df = pd.read_csv(\"data/Pulsar_cleaned.csv\")\n",
    "print(df.info)\n",
    "df.head()"
   ]
  },
  {
   "cell_type": "code",
   "execution_count": null,
   "metadata": {},
   "outputs": [],
   "source": [
    "# engineer features - covariance matrix ??"
   ]
  }
 ],
 "metadata": {
  "kernelspec": {
   "display_name": "Python 3",
   "language": "python",
   "name": "python3"
  },
  "language_info": {
   "codemirror_mode": {
    "name": "ipython",
    "version": 3
   },
   "file_extension": ".py",
   "mimetype": "text/x-python",
   "name": "python",
   "nbconvert_exporter": "python",
   "pygments_lexer": "ipython3",
   "version": "3.12.1"
  }
 },
 "nbformat": 4,
 "nbformat_minor": 2
}
